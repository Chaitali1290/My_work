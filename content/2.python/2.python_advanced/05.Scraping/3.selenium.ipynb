{
 "cells": [
  {
   "cell_type": "markdown",
   "metadata": {},
   "source": [
    "# Scraping with Selenium\n",
    "\n",
    "Selenium is a tool initially created to automate tests on websites. It is therefore very useful when information is accessible by clicking on links. A button for example is an element from which it is very difficult to obtain the link. BeautifulSoup then becomes limited.\n",
    "In this case, use Selenium."
   ]
  },
  {
   "cell_type": "markdown",
   "metadata": {},
   "source": [
    "### Load libraries\n",
    "\n",
    "If you are missing any libraries in the next cell, you'll need to install them before continuing."
   ]
  },
  {
   "cell_type": "code",
   "execution_count": 10,
   "metadata": {},
   "outputs": [],
   "source": [
    "import bs4\n",
    "import requests\n",
    "from bs4 import BeautifulSoup\n",
    "import numpy as np\n",
    "import pandas as pd\n",
    "import json\n",
    "import re\n",
    "import lxml.html\n",
    "import time\n",
    "import random\n",
    "from random import randint\n",
    "import logging\n",
    "import collections\n",
    "from time import gmtime, strftime\n",
    "\n",
    "import re\n",
    "from tabulate import tabulate\n",
    "import os\n",
    "\n",
    "date = strftime(\"%Y-%m-%d\")"
   ]
  },
  {
   "cell_type": "markdown",
   "metadata": {},
   "source": [
    "### Install Selenium according to this manual\n",
    "\n",
    "https://selenium-python.readthedocs.io/installation.html#downloading-python-bindings-for-selenium/bin\n",
    "\n",
    "*NB: On Linux, put your `geckodriver` (the downloaded extension) in the equivalent path on your machine into `/home/<YOUR_NAME>/.local/bin/`*"
   ]
  },
  {
   "cell_type": "markdown",
   "metadata": {},
   "source": [
    "We will simulate a search on the official Python website."
   ]
  },
  {
   "cell_type": "code",
   "execution_count": 7,
   "metadata": {},
   "outputs": [
    {
     "name": "stderr",
     "output_type": "stream",
     "text": [
      "C:\\Users\\HP\\AppData\\Local\\Temp\\ipykernel_7852\\2872872917.py:27: DeprecationWarning: find_element_by_name is deprecated. Please use find_element(by=By.NAME, value=name) instead\n",
      "  elem = driver.find_element_by_name(\"q\")\n"
     ]
    }
   ],
   "source": [
    "import selenium\n",
    "\n",
    "# The selenium.webdriver module provides all the implementations of WebDriver\n",
    "# Currently supported are Firefox, Chrome, IE and Remote. The `Keys` class provides keys on\n",
    "# the keyboard such as RETURN, F1, ALT etc.\n",
    "from selenium import webdriver\n",
    "from selenium.webdriver.common.keys import Keys\n",
    "\n",
    "# Here, we create instance of Firefox WebDriver.\n",
    "#driver = webdriver.Firefox(\"C:\\\\Users\\\\HP\\\\Downloads\\\\geckodriver-v0.31.0-win64\\\\geckodriver.exe\")\n",
    "driver = webdriver.Firefox()\n",
    "#driver = webdriver.Firefox(r\"C:\\Users\\HP\\Downloads\\geckodriver-v0.31.0-win64\\geckodriver\")\n",
    "\n",
    "# The driver.get method will lead to a page given by the URL. WebDriver will wait until the page is fully\n",
    "# loaded (i.e. the \"onload\" event has been triggered) before returning the control to your script.\n",
    "# It should be noted that if your page uses a lot of AJAX calls when loading, WebDriver may not know\n",
    "# when it was fully loaded.\n",
    "driver.get(\"http://www.python.org\")\n",
    "\n",
    "# The following line is a statement confirming that the title contains the word \"Python\".\n",
    "assert \"Python\" in driver.title\n",
    "\n",
    "# WebDriver offers several methods to search for items using one of the methods\n",
    "# `find_element_by_...` .\n",
    "# For example, the input text element can be located by its name attribute by\n",
    "# using the `find_element_by_name` method.\n",
    "elem = driver.find_element_by_name(\"q\")\n",
    "\n",
    "# Then we send keys. This is similar to entering keys using your keyboard.\n",
    "# Special keys can be sent using the `Keys` class imported in line 7 (from selenium.webdriver.common.keys import Keys).\n",
    "# For security reasons, we will delete any pre-filled text in the input field\n",
    "# (for example, \"Search\") so that it does not affect our search results:\n",
    "elem.clear()\n",
    "elem.send_keys(\"pycon\")\n",
    "elem.send_keys(Keys.RETURN)\n",
    "\n",
    "# After submitting the page, you should get the result if there is one. To ensure that certain results\n",
    "# are found, make an assertion:\n",
    "assert \"No results found.\" not in driver.page_source\n",
    "driver.close()"
   ]
  },
  {
   "cell_type": "markdown",
   "metadata": {},
   "source": [
    "#### Open the source code of the webpage and check that the search area (field) is called \"q\"."
   ]
  },
  {
   "cell_type": "code",
   "execution_count": null,
   "metadata": {},
   "outputs": [],
   "source": []
  },
  {
   "cell_type": "markdown",
   "metadata": {},
   "source": [
    "### Getting a phone number from *leboncoin*"
   ]
  },
  {
   "cell_type": "code",
   "execution_count": 11,
   "metadata": {},
   "outputs": [
    {
     "ename": "TypeError",
     "evalue": "object of type 'NoneType' has no len()",
     "output_type": "error",
     "traceback": [
      "\u001b[1;31m---------------------------------------------------------------------------\u001b[0m",
      "\u001b[1;31mTypeError\u001b[0m                                 Traceback (most recent call last)",
      "\u001b[1;32mc:\\Users\\HP\\OneDrive\\Desktop\\My_work\\content\\2.python\\2.python_advanced\\05.Scraping\\3.selenium.ipynb Cell 10'\u001b[0m in \u001b[0;36m<cell line: 17>\u001b[1;34m()\u001b[0m\n\u001b[0;32m     <a href='vscode-notebook-cell:/c%3A/Users/HP/OneDrive/Desktop/My_work/content/2.python/2.python_advanced/05.Scraping/3.selenium.ipynb#ch0000009?line=10'>11</a>\u001b[0m driver\u001b[39m.\u001b[39mget(url)\n\u001b[0;32m     <a href='vscode-notebook-cell:/c%3A/Users/HP/OneDrive/Desktop/My_work/content/2.python/2.python_advanced/05.Scraping/3.selenium.ipynb#ch0000009?line=12'>13</a>\u001b[0m \u001b[39m#python_button = driver.find_elements_by_xpath('//div[@data-reactid=\"269\"]')[0]\u001b[39;00m\n\u001b[0;32m     <a href='vscode-notebook-cell:/c%3A/Users/HP/OneDrive/Desktop/My_work/content/2.python/2.python_advanced/05.Scraping/3.selenium.ipynb#ch0000009?line=13'>14</a>\u001b[0m \u001b[39m#python_button.click()\u001b[39;00m\n\u001b[0;32m     <a href='vscode-notebook-cell:/c%3A/Users/HP/OneDrive/Desktop/My_work/content/2.python/2.python_advanced/05.Scraping/3.selenium.ipynb#ch0000009?line=14'>15</a>\u001b[0m \n\u001b[0;32m     <a href='vscode-notebook-cell:/c%3A/Users/HP/OneDrive/Desktop/My_work/content/2.python/2.python_advanced/05.Scraping/3.selenium.ipynb#ch0000009?line=15'>16</a>\u001b[0m \u001b[39m# And then we use Beautiful soup\u001b[39;00m\n\u001b[1;32m---> <a href='vscode-notebook-cell:/c%3A/Users/HP/OneDrive/Desktop/My_work/content/2.python/2.python_advanced/05.Scraping/3.selenium.ipynb#ch0000009?line=16'>17</a>\u001b[0m soup \u001b[39m=\u001b[39m BeautifulSoup(driver\u001b[39m.\u001b[39;49mpage_source)\n\u001b[0;32m     <a href='vscode-notebook-cell:/c%3A/Users/HP/OneDrive/Desktop/My_work/content/2.python/2.python_advanced/05.Scraping/3.selenium.ipynb#ch0000009?line=18'>19</a>\u001b[0m driver\u001b[39m.\u001b[39mclose()\n\u001b[0;32m     <a href='vscode-notebook-cell:/c%3A/Users/HP/OneDrive/Desktop/My_work/content/2.python/2.python_advanced/05.Scraping/3.selenium.ipynb#ch0000009?line=20'>21</a>\u001b[0m \u001b[39mfor\u001b[39;00m elem \u001b[39min\u001b[39;00m soup\u001b[39m.\u001b[39mfind_all(\u001b[39m\"\u001b[39m\u001b[39ma\u001b[39m\u001b[39m\"\u001b[39m, attrs\u001b[39m=\u001b[39m{\u001b[39m\"\u001b[39m\u001b[39mdata-qa-id\u001b[39m\u001b[39m\"\u001b[39m: \u001b[39m\"\u001b[39m\u001b[39madview_number_phone_contact\u001b[39m\u001b[39m\"\u001b[39m}):\n",
      "File \u001b[1;32m~\\AppData\\Local\\Packages\\PythonSoftwareFoundation.Python.3.10_qbz5n2kfra8p0\\LocalCache\\local-packages\\Python310\\site-packages\\bs4\\__init__.py:313\u001b[0m, in \u001b[0;36mBeautifulSoup.__init__\u001b[1;34m(self, markup, features, builder, parse_only, from_encoding, exclude_encodings, element_classes, **kwargs)\u001b[0m\n\u001b[0;32m    <a href='file:///c%3A/Users/HP/AppData/Local/Packages/PythonSoftwareFoundation.Python.3.10_qbz5n2kfra8p0/LocalCache/local-packages/Python310/site-packages/bs4/__init__.py?line=310'>311</a>\u001b[0m \u001b[39mif\u001b[39;00m \u001b[39mhasattr\u001b[39m(markup, \u001b[39m'\u001b[39m\u001b[39mread\u001b[39m\u001b[39m'\u001b[39m):        \u001b[39m# It's a file-type object.\u001b[39;00m\n\u001b[0;32m    <a href='file:///c%3A/Users/HP/AppData/Local/Packages/PythonSoftwareFoundation.Python.3.10_qbz5n2kfra8p0/LocalCache/local-packages/Python310/site-packages/bs4/__init__.py?line=311'>312</a>\u001b[0m     markup \u001b[39m=\u001b[39m markup\u001b[39m.\u001b[39mread()\n\u001b[1;32m--> <a href='file:///c%3A/Users/HP/AppData/Local/Packages/PythonSoftwareFoundation.Python.3.10_qbz5n2kfra8p0/LocalCache/local-packages/Python310/site-packages/bs4/__init__.py?line=312'>313</a>\u001b[0m \u001b[39melif\u001b[39;00m \u001b[39mlen\u001b[39;49m(markup) \u001b[39m<\u001b[39m\u001b[39m=\u001b[39m \u001b[39m256\u001b[39m \u001b[39mand\u001b[39;00m (\n\u001b[0;32m    <a href='file:///c%3A/Users/HP/AppData/Local/Packages/PythonSoftwareFoundation.Python.3.10_qbz5n2kfra8p0/LocalCache/local-packages/Python310/site-packages/bs4/__init__.py?line=313'>314</a>\u001b[0m         (\u001b[39misinstance\u001b[39m(markup, \u001b[39mbytes\u001b[39m) \u001b[39mand\u001b[39;00m \u001b[39mnot\u001b[39;00m \u001b[39mb\u001b[39m\u001b[39m'\u001b[39m\u001b[39m<\u001b[39m\u001b[39m'\u001b[39m \u001b[39min\u001b[39;00m markup)\n\u001b[0;32m    <a href='file:///c%3A/Users/HP/AppData/Local/Packages/PythonSoftwareFoundation.Python.3.10_qbz5n2kfra8p0/LocalCache/local-packages/Python310/site-packages/bs4/__init__.py?line=314'>315</a>\u001b[0m         \u001b[39mor\u001b[39;00m (\u001b[39misinstance\u001b[39m(markup, \u001b[39mstr\u001b[39m) \u001b[39mand\u001b[39;00m \u001b[39mnot\u001b[39;00m \u001b[39m'\u001b[39m\u001b[39m<\u001b[39m\u001b[39m'\u001b[39m \u001b[39min\u001b[39;00m markup)\n\u001b[0;32m    <a href='file:///c%3A/Users/HP/AppData/Local/Packages/PythonSoftwareFoundation.Python.3.10_qbz5n2kfra8p0/LocalCache/local-packages/Python310/site-packages/bs4/__init__.py?line=315'>316</a>\u001b[0m ):\n\u001b[0;32m    <a href='file:///c%3A/Users/HP/AppData/Local/Packages/PythonSoftwareFoundation.Python.3.10_qbz5n2kfra8p0/LocalCache/local-packages/Python310/site-packages/bs4/__init__.py?line=316'>317</a>\u001b[0m     \u001b[39m# Issue warnings for a couple beginner problems\u001b[39;00m\n\u001b[0;32m    <a href='file:///c%3A/Users/HP/AppData/Local/Packages/PythonSoftwareFoundation.Python.3.10_qbz5n2kfra8p0/LocalCache/local-packages/Python310/site-packages/bs4/__init__.py?line=317'>318</a>\u001b[0m     \u001b[39m# involving passing non-markup to Beautiful Soup.\u001b[39;00m\n\u001b[0;32m    <a href='file:///c%3A/Users/HP/AppData/Local/Packages/PythonSoftwareFoundation.Python.3.10_qbz5n2kfra8p0/LocalCache/local-packages/Python310/site-packages/bs4/__init__.py?line=318'>319</a>\u001b[0m     \u001b[39m# Beautiful Soup will still parse the input as markup,\u001b[39;00m\n\u001b[0;32m    <a href='file:///c%3A/Users/HP/AppData/Local/Packages/PythonSoftwareFoundation.Python.3.10_qbz5n2kfra8p0/LocalCache/local-packages/Python310/site-packages/bs4/__init__.py?line=319'>320</a>\u001b[0m     \u001b[39m# since that is sometimes the intended behavior.\u001b[39;00m\n\u001b[0;32m    <a href='file:///c%3A/Users/HP/AppData/Local/Packages/PythonSoftwareFoundation.Python.3.10_qbz5n2kfra8p0/LocalCache/local-packages/Python310/site-packages/bs4/__init__.py?line=320'>321</a>\u001b[0m     \u001b[39mif\u001b[39;00m \u001b[39mnot\u001b[39;00m \u001b[39mself\u001b[39m\u001b[39m.\u001b[39m_markup_is_url(markup):\n\u001b[0;32m    <a href='file:///c%3A/Users/HP/AppData/Local/Packages/PythonSoftwareFoundation.Python.3.10_qbz5n2kfra8p0/LocalCache/local-packages/Python310/site-packages/bs4/__init__.py?line=321'>322</a>\u001b[0m         \u001b[39mself\u001b[39m\u001b[39m.\u001b[39m_markup_resembles_filename(markup)                \n",
      "\u001b[1;31mTypeError\u001b[0m: object of type 'NoneType' has no len()"
     ]
    }
   ],
   "source": [
    "from selenium import webdriver\n",
    "from selenium.webdriver.support.ui import WebDriverWait\n",
    "from selenium.webdriver.support import expected_conditions as EC\n",
    "from selenium.common.exceptions import TimeoutException\n",
    "from selenium.webdriver.common.by import By\n",
    "\n",
    "url = \"https://www.leboncoin.fr/sports_hobbies/1536839557.htm/\"\n",
    "\n",
    "driver = webdriver.Firefox()\n",
    "driver.implicitly_wait(30)\n",
    "driver.get(url)\n",
    "\n",
    "python_button = driver.find_elements_by_xpath('//div[@data-reactid=\"269\"]')[0]\n",
    "python_button.click()\n",
    "\n",
    "# And then we use Beautiful soup\n",
    "soup = BeautifulSoup(driver.page_source)\n",
    "\n",
    "driver.close()\n",
    "\n",
    "for elem in soup.find_all(\"a\", attrs={\"data-qa-id\": \"adview_number_phone_contact\"}):\n",
    "    print(elem.text)"
   ]
  },
  {
   "cell_type": "markdown",
   "metadata": {},
   "source": [
    "### Starting from *leboncoin*, collect all the information available to define the product being sold. Use `selenium` for the telephone number."
   ]
  },
  {
   "cell_type": "code",
   "execution_count": 15,
   "metadata": {},
   "outputs": [],
   "source": [
    "from selenium import webdriver\n",
    "from selenium.webdriver.support.ui import WebDriverWait\n",
    "from selenium.webdriver.support import expected_conditions as EC\n",
    "from selenium.common.exceptions import TimeoutException\n",
    "from selenium.webdriver.common.by import By\n",
    "\n",
    "url = \"https://immo.vlan.be/en/detail/flat---apartment/for-sale/1190/vorst/vwd00974\"\n",
    "\n",
    "driver = webdriver.Firefox()\n",
    "driver.implicitly_wait(30)\n",
    "driver.get(url)\n",
    "\n",
    "#python_button = driver.find_elements_by_xpath('//div[@data-reactid=\"269\"]')[0]\n",
    "#python_button.click()\n",
    "\n",
    "# And then we use Beautiful soup\n",
    "soup = BeautifulSoup(driver.page_source)\n",
    "\n",
    "driver.close()\n",
    "\n",
    "for elem in soup.find_all(\"a\", attrs={\"class\": \"masked phone\"}):\n",
    "    print(elem.text)"
   ]
  },
  {
   "cell_type": "markdown",
   "metadata": {},
   "source": [
    "### API (Application Program Interface)"
   ]
  },
  {
   "cell_type": "markdown",
   "metadata": {},
   "source": [
    "A set of tools and methods that allow different applications to interact with each other. In the case of a web service, we can retrieve data dynamically. By using an API correctly, we can thus obtain in real time, the modifications made on a \"parent\" site.\n",
    "\n",
    "For example, we will retrieve online news, for example from the \"L'équipe\" website."
   ]
  },
  {
   "cell_type": "markdown",
   "metadata": {},
   "source": [
    "Follow the instructions at https://newsapi.org/s/lequipe-api to retrieve an \"API key\" connection key"
   ]
  },
  {
   "cell_type": "markdown",
   "metadata": {},
   "source": [
    "Your API key is: `73bbb95f8ecb49b499113a46481b4af1`\n",
    "\n",
    "\n",
    "It is frequent that a key does not work after a while (e.g. `5 min`n `30 min`, a day, ...)\n",
    "So don't jump up if you get an error message back."
   ]
  },
  {
   "cell_type": "code",
   "execution_count": 16,
   "metadata": {},
   "outputs": [
    {
     "name": "stdout",
     "output_type": "stream",
     "text": [
      "{'status': 'ok', 'totalResults': 10, 'articles': [{'source': {'id': 'lequipe', 'name': \"L'equipe\"}, 'author': \"L'EQUIPE\", 'title': \"Valence CF\\xa0: Hugo Duro s'engage jusqu'en 2026\", 'description': \"Prêté cette saison par Getafe, l'attaquant Hugo Duro s'est engagé mardi avec le Valence CF jusqu'en 2026.\", 'url': 'https://www.lequipe.fr/Football/Actualites/Valence-cf-hugo-duro-s-engage-jusqu-en-2026/1332299', 'urlToImage': 'https://medias.lequipe.fr/img-photo-jpg/hugo-duro-en-action-j-corchero-afp7/1500000001640590/0:0,1331:1331-640-640-75/1f6e8.jpg', 'publishedAt': '2022-05-10T12:03:00+00:00', 'content': \"C'était dans l'air, c'est désormais officiel. Prêté par Getafe cette saison et auteur de 10 buts toutes compétitions confondues, Hugo Duro va bien rester au Valence CF. Le club espagnol a en effet an… [+86 chars]\"}, {'source': {'id': 'lequipe', 'name': \"L'equipe\"}, 'author': \"L'EQUIPE\", 'title': \"Christophe Galtier (entraîneur de Nice)\\xa0: «\\xa0Pas à l'heure du bilan\\xa0»\", 'description': \"À la veille de la rencontre entre Nice et Saint-Étienne, en match en retard de la 36e journée de Ligue\\xa01 mercredi (19h00), l'entraîneur du Gym Christophe Galtier a repoussé les interrogations concernant son avenir. Pour mieux se focaliser sur une rencontre cr…\", 'url': 'https://www.lequipe.fr/Football/Actualites/Christophe-galtier-entraineur-de-nice-pas-a-l-heure-du-bilan/1332298', 'urlToImage': 'https://medias.lequipe.fr/img-photo-jpg/christophe-galtier-entraineur-de-nice-en-conference-de-presse-p-lahalle-l-equipe/1500000001640586/0:0,1998:1332-640-427-75/83a0e.jpg', 'publishedAt': '2022-05-10T11:44:00+00:00', 'content': \"«\\xa0Serez-vous toujours l'entraîneur de Nice la saison prochaine et avez-vous demandé des garanties à Ineos sur les contours du futur effectif\\xa0?Avant de répondre à cette question - qui a le droit d'êtr… [+2404 chars]\"}, {'source': {'id': 'lequipe', 'name': \"L'equipe\"}, 'author': \"L'EQUIPE\", 'title': 'Primoz Roglic (Jumbo-Visma) entame sa préparation en vue du Tour de France', 'description': \"Le Slovène Primoz Roglic et neuf autres coureurs de l'équipe Jumbo-Visma ont débuté leur préparation pour le Tour ce mardi en Sierra Nevada.\", 'url': 'https://www.lequipe.fr/Cyclisme-sur-route/Actualites/Primoz-roglic-jumbo-visma-entame-sa-preparation-en-vue-du-tour-de-france/1332297', 'urlToImage': 'https://medias.lequipe.fr/img-photo-jpg/primoz-roglic-entoure-par-le-belge-wout-van-aert-et-christophe-laporte-lors-de-la-derniere-edition-d/1500000001640583/0:0,1995:1330-640-427-75/d921f.jpg', 'publishedAt': '2022-05-10T11:42:00+00:00', 'content': 'Primoz Roglic a entamé ce mardi, en Sierra Nevada, sa préparation pour le Tour de France (1er-24 juillet) par un stage en altitude de vingt jours. Handicapé par une blessure derrière le genou gauche … [+2818 chars]'}, {'source': {'id': 'lequipe', 'name': \"L'equipe\"}, 'author': \"L'EQUIPE\", 'title': \"Les finales de Coupe d'Europe 2023 auront lieu les 19 et 20\\xa0mai\", 'description': \"L'EPCR a annoncé ce mardi les grandes dates des Coupes d'Europe 2022-2023.\", 'url': 'https://www.lequipe.fr/Rugby/Actualites/Les-finales-de-coupe-d-europe-2023-auront-lieu-les-19-et-20-mai/1332295', 'urlToImage': 'https://medias.lequipe.fr/img-photo-jpg/les-coupes-d-europe-2022-2023-commenceront-en-decembre-a-martin-l-equipe/1500000001640580/0:0,1994:1330-640-427-75/5ee19.jpg', 'publishedAt': '2022-05-10T11:27:00+00:00', 'content': \"À quatre jours des demi-finales des Coupes d'Europe 2022, l'EPCR a dévoilé mardi les grandes dates des éditions 2022-2023 de ses compétitions. La Champions Cup et le Challenge européen se dérouleront… [+1254 chars]\"}, {'source': {'id': 'lequipe', 'name': \"L'equipe\"}, 'author': \"L'EQUIPE\", 'title': \"Grigor Dimitrov s'en sort au métier au premier tour du Masters 1000 de Rome\", 'description': \"Malgré une victoire en deux sets face à Brandon Nakashima (6-3, 6-4), Grigor Dimitrov a dû s'employer ce mardi pour franchir le premier tour du Masters 1000 de Rome.\", 'url': 'https://www.lequipe.fr/Tennis/Actualites/Grigor-dimitrov-s-en-sort-au-metier-au-premier-tour-du-masters-1000-de-rome/1332293', 'urlToImage': 'https://medias.lequipe.fr/img-photo-jpg/grigor-dimitrov-a-fait-parler-son-experience-g-mangipane-reuters/1500000001640576/0:0,1995:1330-640-427-75/0d50b.jpg', 'publishedAt': '2022-05-10T11:24:00+00:00', 'content': \"Le score peut sembler assez sec, mais Grigor Dimitrov n'a pas vécu une promenade de santé face à Brandon Nakashima (6-3, 6-4). En effet, les deux hommes sont restés très proches durant toute la durée… [+768 chars]\"}, {'source': {'id': 'lequipe', 'name': \"L'equipe\"}, 'author': \"L'EQUIPE\", 'title': 'Les pistes du CDES sur les enjeux du sport de demain', 'description': \"Une étude sur les enjeux du sport de demain, réalisée par le\\xa0Centre de droit et d'économie du sport de Limoges (CDES) et présentée lundi, donne des pistes pour repenser sa place dans la société et sa gouvernance.\", 'url': 'https://www.lequipe.fr/Tous-sports/Actualites/Les-pistes-du-cdes-sur-les-enjeux-du-sport-de-demain/1332289', 'urlToImage': 'https://medias.lequipe.fr/img-photo-jpg/l-etude-du-cdes-confirme-l-essor-d-un-sport-moins-encadre-synonyme-de-plaisir-et-bien-etre-f-seguin-/1500000001640570/0:0,1995:1330-640-427-75/58990.jpg', 'publishedAt': '2022-05-10T11:02:00+00:00', 'content': \"À vaste sujet, analyse conséquente. L'«\\xa0étude nationale sur les besoins et les attentes des acteurs du sport\\xa0», réalisée par le Centre de droit et d'économie du sport de Limoges (CDES) et pilotée par… [+3006 chars]\"}, {'source': {'id': 'lequipe', 'name': \"L'equipe\"}, 'author': \"L'EQUIPE\", 'title': 'Jelena Ostapenko éliminée par Lauren Davis au premier tour à Rome', 'description': 'Jelena Ostapenko, 13e mondiale, a cédé au premier tour du WTA 1000 de Rome face à la qualifiée Lauren Davis (6-2, 6-3).', 'url': 'https://www.lequipe.fr/Tennis/Actualites/Jelena-ostapenko-eliminee-au-premier-tour-a-rome/1332284', 'urlToImage': 'https://medias.lequipe.fr/img-photo-jpg/jelena-ostapenko-est-dans-le-dur-n-luttiau-l-equipe/1500000001640566/227:283,1802:1333-640-427-75/eb7fd.jpg', 'publishedAt': '2022-05-10T10:37:00+00:00', 'content': \"Grosse contre-performance pour Jelena Ostapenko au premier tour du WTA 1000 de Rome. La 13e mondiale est passée à côté de son match face à la qualifiée américaine Lauren Davis (102e) et s'est incliné… [+231 chars]\"}, {'source': {'id': 'lequipe', 'name': \"L'equipe\"}, 'author': \"L'EQUIPE\", 'title': 'Caroline Marks poursuit la saison, Sally Fitzgibbons et Yago Dora wildcards pour 2023', 'description': 'La World Surf League a annoncé que Caroline Marks participera au reste de la saison 2022 grâce à une wildcard, tout comme Gabriel Medina, tandis que Sally Fitzgibbons et Yago Dora en ont reçu une pour 2023.', 'url': 'https://www.lequipe.fr/Adrenaline/Surf/Actualites/Caroline-marks-poursuit-la-saison-sally-fitzgibbons-et-yago-dora-wildcards-pour-2023/1332283', 'urlToImage': 'https://medias.lequipe.fr/img-photo-jpg/caroline-marks-a-remporte-le-rip-curl-pro-portugal-2019-l-masurel-wsl/1500000001640565/29:19,1968:1312-640-427-75/a8edb.jpg', 'publishedAt': '2022-05-10T10:20:00+00:00', 'content': \"Quant aux wildcards pour 2023, elles ont été attribuées à Sally Fitzgibbons et Yago Dora, qui n'auront donc pas à disputer les Challenger Series pour se requalifier. L'Australienne de 31 ans, trois f… [+354 chars]\"}, {'source': {'id': 'lequipe', 'name': \"L'equipe\"}, 'author': \"L'EQUIPE\", 'title': \"Pierre-Édouard Bellemare ne disputera pas le Mondial avec l'équipe de France\", 'description': \"Le sélectionneur Philippe Bozon a précisé lundi que Pierre-Édouard Bellemare ne participerait pas au Mondial avec l'équipe de France, même en cas d'élimination de son équipe de Tampa Bay en play-offs de NHL.\", 'url': 'https://www.lequipe.fr/Hockey-sur-glace/Actualites/Pierre-edouard-bellemare-ne-disputera-pas-le-mondial-avec-l-equipe-de-france/1332282', 'urlToImage': 'https://medias.lequipe.fr/img-photo-jpg/pierre-edouard-bellemare-au-centre-lors-du-tournoi-de-qualification-olympique-l-an-passe-ne-particip/1500000001640564/0:0,1995:1330-640-427-75/fbfbc.jpg', 'publishedAt': '2022-05-10T10:19:00+00:00', 'content': \"Philippe Bozon, le sélectionneur des Bleus, a répondu aux questions de la presse en visioconférence, à quelques jours de l'entrée en lice de l'équipe de France au Championnat du monde, vendredi à Hel… [+1623 chars]\"}, {'source': {'id': 'lequipe', 'name': \"L'equipe\"}, 'author': \"L'EQUIPE\", 'title': \"Sébastien Bouin confirme son 9c historique\\xa0: «\\xa0Essayer quelque chose d'encore plus dur\\xa0»\", 'description': 'À 29 ans, le Français Sébastien Bouin assure avoir réussi fin avril un 9c, soit le plus haut niveau jamais réalisé en escalade, avec la voie appelée «\\xa0DNA\\xa0», dans le Verdon. Il revient sur cette ascension historique et se projette sur le niveau supérieur, iné…', 'url': 'https://www.lequipe.fr/Adrenaline/Escalade/Actualites/Sebastien-bouin-confirme-son-9c-historique-essayer-quelque-chose-d-encore-plus-dur/1332201', 'urlToImage': 'https://medias.lequipe.fr/img-photo-jpg/-/1500000001640392/34:875,1974:2168-640-427-75/cdd96.jpg', 'publishedAt': '2022-05-10T10:00:00+00:00', 'content': \"«\\xa0Vous avez mis quelques jours avant d'annoncer publiquement ce 9c (le plus haut niveau au monde en escalade), pourquoi\\xa0?J'ai pris le temps pour réfléchir sur la cotation que j'allais proposer (en es… [+4873 chars]\"}]}\n"
     ]
    }
   ],
   "source": [
    "import requests\n",
    "\n",
    "key = \"73bbb95f8ecb49b499113a46481b4af1\"\n",
    "url = \"https://newsapi.org/v2/top-headlines?sources=lequipe&apiKey=\" + key\n",
    "response = requests.get(url)\n",
    "\n",
    "# Here the response format is a json file, it is used as a dictionary\n",
    "print(response.json())"
   ]
  },
  {
   "cell_type": "code",
   "execution_count": 17,
   "metadata": {},
   "outputs": [
    {
     "name": "stdout",
     "output_type": "stream",
     "text": [
      "dict_keys(['status', 'totalResults', 'articles'])\n"
     ]
    }
   ],
   "source": [
    "dictionnary = response.json()\n",
    "print(dictionnary.keys())"
   ]
  },
  {
   "cell_type": "code",
   "execution_count": 18,
   "metadata": {},
   "outputs": [
    {
     "name": "stdout",
     "output_type": "stream",
     "text": [
      "##############################################\n",
      "Key:  status // Values:  ok\n",
      "##############################################\n",
      "Key:  totalResults // Values:  10\n",
      "##############################################\n",
      "Key:  articles // Values:  [{'source': {'id': 'lequipe', 'name': \"L'equipe\"}, 'author': \"L'EQUIPE\", 'title': \"Valence CF\\xa0: Hugo Duro s'engage jusqu'en 2026\", 'description': \"Prêté cette saison par Getafe, l'attaquant Hugo Duro s'est engagé mardi avec le Valence CF jusqu'en 2026.\", 'url': 'https://www.lequipe.fr/Football/Actualites/Valence-cf-hugo-duro-s-engage-jusqu-en-2026/1332299', 'urlToImage': 'https://medias.lequipe.fr/img-photo-jpg/hugo-duro-en-action-j-corchero-afp7/1500000001640590/0:0,1331:1331-640-640-75/1f6e8.jpg', 'publishedAt': '2022-05-10T12:03:00+00:00', 'content': \"C'était dans l'air, c'est désormais officiel. Prêté par Getafe cette saison et auteur de 10 buts toutes compétitions confondues, Hugo Duro va bien rester au Valence CF. Le club espagnol a en effet an… [+86 chars]\"}, {'source': {'id': 'lequipe', 'name': \"L'equipe\"}, 'author': \"L'EQUIPE\", 'title': \"Christophe Galtier (entraîneur de Nice)\\xa0: «\\xa0Pas à l'heure du bilan\\xa0»\", 'description': \"À la veille de la rencontre entre Nice et Saint-Étienne, en match en retard de la 36e journée de Ligue\\xa01 mercredi (19h00), l'entraîneur du Gym Christophe Galtier a repoussé les interrogations concernant son avenir. Pour mieux se focaliser sur une rencontre cr…\", 'url': 'https://www.lequipe.fr/Football/Actualites/Christophe-galtier-entraineur-de-nice-pas-a-l-heure-du-bilan/1332298', 'urlToImage': 'https://medias.lequipe.fr/img-photo-jpg/christophe-galtier-entraineur-de-nice-en-conference-de-presse-p-lahalle-l-equipe/1500000001640586/0:0,1998:1332-640-427-75/83a0e.jpg', 'publishedAt': '2022-05-10T11:44:00+00:00', 'content': \"«\\xa0Serez-vous toujours l'entraîneur de Nice la saison prochaine et avez-vous demandé des garanties à Ineos sur les contours du futur effectif\\xa0?Avant de répondre à cette question - qui a le droit d'êtr… [+2404 chars]\"}, {'source': {'id': 'lequipe', 'name': \"L'equipe\"}, 'author': \"L'EQUIPE\", 'title': 'Primoz Roglic (Jumbo-Visma) entame sa préparation en vue du Tour de France', 'description': \"Le Slovène Primoz Roglic et neuf autres coureurs de l'équipe Jumbo-Visma ont débuté leur préparation pour le Tour ce mardi en Sierra Nevada.\", 'url': 'https://www.lequipe.fr/Cyclisme-sur-route/Actualites/Primoz-roglic-jumbo-visma-entame-sa-preparation-en-vue-du-tour-de-france/1332297', 'urlToImage': 'https://medias.lequipe.fr/img-photo-jpg/primoz-roglic-entoure-par-le-belge-wout-van-aert-et-christophe-laporte-lors-de-la-derniere-edition-d/1500000001640583/0:0,1995:1330-640-427-75/d921f.jpg', 'publishedAt': '2022-05-10T11:42:00+00:00', 'content': 'Primoz Roglic a entamé ce mardi, en Sierra Nevada, sa préparation pour le Tour de France (1er-24 juillet) par un stage en altitude de vingt jours. Handicapé par une blessure derrière le genou gauche … [+2818 chars]'}, {'source': {'id': 'lequipe', 'name': \"L'equipe\"}, 'author': \"L'EQUIPE\", 'title': \"Les finales de Coupe d'Europe 2023 auront lieu les 19 et 20\\xa0mai\", 'description': \"L'EPCR a annoncé ce mardi les grandes dates des Coupes d'Europe 2022-2023.\", 'url': 'https://www.lequipe.fr/Rugby/Actualites/Les-finales-de-coupe-d-europe-2023-auront-lieu-les-19-et-20-mai/1332295', 'urlToImage': 'https://medias.lequipe.fr/img-photo-jpg/les-coupes-d-europe-2022-2023-commenceront-en-decembre-a-martin-l-equipe/1500000001640580/0:0,1994:1330-640-427-75/5ee19.jpg', 'publishedAt': '2022-05-10T11:27:00+00:00', 'content': \"À quatre jours des demi-finales des Coupes d'Europe 2022, l'EPCR a dévoilé mardi les grandes dates des éditions 2022-2023 de ses compétitions. La Champions Cup et le Challenge européen se dérouleront… [+1254 chars]\"}, {'source': {'id': 'lequipe', 'name': \"L'equipe\"}, 'author': \"L'EQUIPE\", 'title': \"Grigor Dimitrov s'en sort au métier au premier tour du Masters 1000 de Rome\", 'description': \"Malgré une victoire en deux sets face à Brandon Nakashima (6-3, 6-4), Grigor Dimitrov a dû s'employer ce mardi pour franchir le premier tour du Masters 1000 de Rome.\", 'url': 'https://www.lequipe.fr/Tennis/Actualites/Grigor-dimitrov-s-en-sort-au-metier-au-premier-tour-du-masters-1000-de-rome/1332293', 'urlToImage': 'https://medias.lequipe.fr/img-photo-jpg/grigor-dimitrov-a-fait-parler-son-experience-g-mangipane-reuters/1500000001640576/0:0,1995:1330-640-427-75/0d50b.jpg', 'publishedAt': '2022-05-10T11:24:00+00:00', 'content': \"Le score peut sembler assez sec, mais Grigor Dimitrov n'a pas vécu une promenade de santé face à Brandon Nakashima (6-3, 6-4). En effet, les deux hommes sont restés très proches durant toute la durée… [+768 chars]\"}, {'source': {'id': 'lequipe', 'name': \"L'equipe\"}, 'author': \"L'EQUIPE\", 'title': 'Les pistes du CDES sur les enjeux du sport de demain', 'description': \"Une étude sur les enjeux du sport de demain, réalisée par le\\xa0Centre de droit et d'économie du sport de Limoges (CDES) et présentée lundi, donne des pistes pour repenser sa place dans la société et sa gouvernance.\", 'url': 'https://www.lequipe.fr/Tous-sports/Actualites/Les-pistes-du-cdes-sur-les-enjeux-du-sport-de-demain/1332289', 'urlToImage': 'https://medias.lequipe.fr/img-photo-jpg/l-etude-du-cdes-confirme-l-essor-d-un-sport-moins-encadre-synonyme-de-plaisir-et-bien-etre-f-seguin-/1500000001640570/0:0,1995:1330-640-427-75/58990.jpg', 'publishedAt': '2022-05-10T11:02:00+00:00', 'content': \"À vaste sujet, analyse conséquente. L'«\\xa0étude nationale sur les besoins et les attentes des acteurs du sport\\xa0», réalisée par le Centre de droit et d'économie du sport de Limoges (CDES) et pilotée par… [+3006 chars]\"}, {'source': {'id': 'lequipe', 'name': \"L'equipe\"}, 'author': \"L'EQUIPE\", 'title': 'Jelena Ostapenko éliminée par Lauren Davis au premier tour à Rome', 'description': 'Jelena Ostapenko, 13e mondiale, a cédé au premier tour du WTA 1000 de Rome face à la qualifiée Lauren Davis (6-2, 6-3).', 'url': 'https://www.lequipe.fr/Tennis/Actualites/Jelena-ostapenko-eliminee-au-premier-tour-a-rome/1332284', 'urlToImage': 'https://medias.lequipe.fr/img-photo-jpg/jelena-ostapenko-est-dans-le-dur-n-luttiau-l-equipe/1500000001640566/227:283,1802:1333-640-427-75/eb7fd.jpg', 'publishedAt': '2022-05-10T10:37:00+00:00', 'content': \"Grosse contre-performance pour Jelena Ostapenko au premier tour du WTA 1000 de Rome. La 13e mondiale est passée à côté de son match face à la qualifiée américaine Lauren Davis (102e) et s'est incliné… [+231 chars]\"}, {'source': {'id': 'lequipe', 'name': \"L'equipe\"}, 'author': \"L'EQUIPE\", 'title': 'Caroline Marks poursuit la saison, Sally Fitzgibbons et Yago Dora wildcards pour 2023', 'description': 'La World Surf League a annoncé que Caroline Marks participera au reste de la saison 2022 grâce à une wildcard, tout comme Gabriel Medina, tandis que Sally Fitzgibbons et Yago Dora en ont reçu une pour 2023.', 'url': 'https://www.lequipe.fr/Adrenaline/Surf/Actualites/Caroline-marks-poursuit-la-saison-sally-fitzgibbons-et-yago-dora-wildcards-pour-2023/1332283', 'urlToImage': 'https://medias.lequipe.fr/img-photo-jpg/caroline-marks-a-remporte-le-rip-curl-pro-portugal-2019-l-masurel-wsl/1500000001640565/29:19,1968:1312-640-427-75/a8edb.jpg', 'publishedAt': '2022-05-10T10:20:00+00:00', 'content': \"Quant aux wildcards pour 2023, elles ont été attribuées à Sally Fitzgibbons et Yago Dora, qui n'auront donc pas à disputer les Challenger Series pour se requalifier. L'Australienne de 31 ans, trois f… [+354 chars]\"}, {'source': {'id': 'lequipe', 'name': \"L'equipe\"}, 'author': \"L'EQUIPE\", 'title': \"Pierre-Édouard Bellemare ne disputera pas le Mondial avec l'équipe de France\", 'description': \"Le sélectionneur Philippe Bozon a précisé lundi que Pierre-Édouard Bellemare ne participerait pas au Mondial avec l'équipe de France, même en cas d'élimination de son équipe de Tampa Bay en play-offs de NHL.\", 'url': 'https://www.lequipe.fr/Hockey-sur-glace/Actualites/Pierre-edouard-bellemare-ne-disputera-pas-le-mondial-avec-l-equipe-de-france/1332282', 'urlToImage': 'https://medias.lequipe.fr/img-photo-jpg/pierre-edouard-bellemare-au-centre-lors-du-tournoi-de-qualification-olympique-l-an-passe-ne-particip/1500000001640564/0:0,1995:1330-640-427-75/fbfbc.jpg', 'publishedAt': '2022-05-10T10:19:00+00:00', 'content': \"Philippe Bozon, le sélectionneur des Bleus, a répondu aux questions de la presse en visioconférence, à quelques jours de l'entrée en lice de l'équipe de France au Championnat du monde, vendredi à Hel… [+1623 chars]\"}, {'source': {'id': 'lequipe', 'name': \"L'equipe\"}, 'author': \"L'EQUIPE\", 'title': \"Sébastien Bouin confirme son 9c historique\\xa0: «\\xa0Essayer quelque chose d'encore plus dur\\xa0»\", 'description': 'À 29 ans, le Français Sébastien Bouin assure avoir réussi fin avril un 9c, soit le plus haut niveau jamais réalisé en escalade, avec la voie appelée «\\xa0DNA\\xa0», dans le Verdon. Il revient sur cette ascension historique et se projette sur le niveau supérieur, iné…', 'url': 'https://www.lequipe.fr/Adrenaline/Escalade/Actualites/Sebastien-bouin-confirme-son-9c-historique-essayer-quelque-chose-d-encore-plus-dur/1332201', 'urlToImage': 'https://medias.lequipe.fr/img-photo-jpg/-/1500000001640392/34:875,1974:2168-640-427-75/cdd96.jpg', 'publishedAt': '2022-05-10T10:00:00+00:00', 'content': \"«\\xa0Vous avez mis quelques jours avant d'annoncer publiquement ce 9c (le plus haut niveau au monde en escalade), pourquoi\\xa0?J'ai pris le temps pour réfléchir sur la cotation que j'allais proposer (en es… [+4873 chars]\"}]\n"
     ]
    }
   ],
   "source": [
    "for element in list(dictionnary.keys()):\n",
    "    print(\"##############################################\")\n",
    "    print(\"Key: \", element, \"// Values: \", dictionnary[element])"
   ]
  },
  {
   "cell_type": "code",
   "execution_count": 19,
   "metadata": {},
   "outputs": [
    {
     "name": "stdout",
     "output_type": "stream",
     "text": [
      "###############################################\n",
      "(0, {'source': {'id': 'lequipe', 'name': \"L'equipe\"}, 'author': \"L'EQUIPE\", 'title': \"Valence CF\\xa0: Hugo Duro s'engage jusqu'en 2026\", 'description': \"Prêté cette saison par Getafe, l'attaquant Hugo Duro s'est engagé mardi avec le Valence CF jusqu'en 2026.\", 'url': 'https://www.lequipe.fr/Football/Actualites/Valence-cf-hugo-duro-s-engage-jusqu-en-2026/1332299', 'urlToImage': 'https://medias.lequipe.fr/img-photo-jpg/hugo-duro-en-action-j-corchero-afp7/1500000001640590/0:0,1331:1331-640-640-75/1f6e8.jpg', 'publishedAt': '2022-05-10T12:03:00+00:00', 'content': \"C'était dans l'air, c'est désormais officiel. Prêté par Getafe cette saison et auteur de 10 buts toutes compétitions confondues, Hugo Duro va bien rester au Valence CF. Le club espagnol a en effet an… [+86 chars]\"})\n",
      "###############################################\n",
      "(1, {'source': {'id': 'lequipe', 'name': \"L'equipe\"}, 'author': \"L'EQUIPE\", 'title': \"Christophe Galtier (entraîneur de Nice)\\xa0: «\\xa0Pas à l'heure du bilan\\xa0»\", 'description': \"À la veille de la rencontre entre Nice et Saint-Étienne, en match en retard de la 36e journée de Ligue\\xa01 mercredi (19h00), l'entraîneur du Gym Christophe Galtier a repoussé les interrogations concernant son avenir. Pour mieux se focaliser sur une rencontre cr…\", 'url': 'https://www.lequipe.fr/Football/Actualites/Christophe-galtier-entraineur-de-nice-pas-a-l-heure-du-bilan/1332298', 'urlToImage': 'https://medias.lequipe.fr/img-photo-jpg/christophe-galtier-entraineur-de-nice-en-conference-de-presse-p-lahalle-l-equipe/1500000001640586/0:0,1998:1332-640-427-75/83a0e.jpg', 'publishedAt': '2022-05-10T11:44:00+00:00', 'content': \"«\\xa0Serez-vous toujours l'entraîneur de Nice la saison prochaine et avez-vous demandé des garanties à Ineos sur les contours du futur effectif\\xa0?Avant de répondre à cette question - qui a le droit d'êtr… [+2404 chars]\"})\n",
      "###############################################\n",
      "(2, {'source': {'id': 'lequipe', 'name': \"L'equipe\"}, 'author': \"L'EQUIPE\", 'title': 'Primoz Roglic (Jumbo-Visma) entame sa préparation en vue du Tour de France', 'description': \"Le Slovène Primoz Roglic et neuf autres coureurs de l'équipe Jumbo-Visma ont débuté leur préparation pour le Tour ce mardi en Sierra Nevada.\", 'url': 'https://www.lequipe.fr/Cyclisme-sur-route/Actualites/Primoz-roglic-jumbo-visma-entame-sa-preparation-en-vue-du-tour-de-france/1332297', 'urlToImage': 'https://medias.lequipe.fr/img-photo-jpg/primoz-roglic-entoure-par-le-belge-wout-van-aert-et-christophe-laporte-lors-de-la-derniere-edition-d/1500000001640583/0:0,1995:1330-640-427-75/d921f.jpg', 'publishedAt': '2022-05-10T11:42:00+00:00', 'content': 'Primoz Roglic a entamé ce mardi, en Sierra Nevada, sa préparation pour le Tour de France (1er-24 juillet) par un stage en altitude de vingt jours. Handicapé par une blessure derrière le genou gauche … [+2818 chars]'})\n",
      "###############################################\n",
      "(3, {'source': {'id': 'lequipe', 'name': \"L'equipe\"}, 'author': \"L'EQUIPE\", 'title': \"Les finales de Coupe d'Europe 2023 auront lieu les 19 et 20\\xa0mai\", 'description': \"L'EPCR a annoncé ce mardi les grandes dates des Coupes d'Europe 2022-2023.\", 'url': 'https://www.lequipe.fr/Rugby/Actualites/Les-finales-de-coupe-d-europe-2023-auront-lieu-les-19-et-20-mai/1332295', 'urlToImage': 'https://medias.lequipe.fr/img-photo-jpg/les-coupes-d-europe-2022-2023-commenceront-en-decembre-a-martin-l-equipe/1500000001640580/0:0,1994:1330-640-427-75/5ee19.jpg', 'publishedAt': '2022-05-10T11:27:00+00:00', 'content': \"À quatre jours des demi-finales des Coupes d'Europe 2022, l'EPCR a dévoilé mardi les grandes dates des éditions 2022-2023 de ses compétitions. La Champions Cup et le Challenge européen se dérouleront… [+1254 chars]\"})\n",
      "###############################################\n",
      "(4, {'source': {'id': 'lequipe', 'name': \"L'equipe\"}, 'author': \"L'EQUIPE\", 'title': \"Grigor Dimitrov s'en sort au métier au premier tour du Masters 1000 de Rome\", 'description': \"Malgré une victoire en deux sets face à Brandon Nakashima (6-3, 6-4), Grigor Dimitrov a dû s'employer ce mardi pour franchir le premier tour du Masters 1000 de Rome.\", 'url': 'https://www.lequipe.fr/Tennis/Actualites/Grigor-dimitrov-s-en-sort-au-metier-au-premier-tour-du-masters-1000-de-rome/1332293', 'urlToImage': 'https://medias.lequipe.fr/img-photo-jpg/grigor-dimitrov-a-fait-parler-son-experience-g-mangipane-reuters/1500000001640576/0:0,1995:1330-640-427-75/0d50b.jpg', 'publishedAt': '2022-05-10T11:24:00+00:00', 'content': \"Le score peut sembler assez sec, mais Grigor Dimitrov n'a pas vécu une promenade de santé face à Brandon Nakashima (6-3, 6-4). En effet, les deux hommes sont restés très proches durant toute la durée… [+768 chars]\"})\n",
      "###############################################\n",
      "(5, {'source': {'id': 'lequipe', 'name': \"L'equipe\"}, 'author': \"L'EQUIPE\", 'title': 'Les pistes du CDES sur les enjeux du sport de demain', 'description': \"Une étude sur les enjeux du sport de demain, réalisée par le\\xa0Centre de droit et d'économie du sport de Limoges (CDES) et présentée lundi, donne des pistes pour repenser sa place dans la société et sa gouvernance.\", 'url': 'https://www.lequipe.fr/Tous-sports/Actualites/Les-pistes-du-cdes-sur-les-enjeux-du-sport-de-demain/1332289', 'urlToImage': 'https://medias.lequipe.fr/img-photo-jpg/l-etude-du-cdes-confirme-l-essor-d-un-sport-moins-encadre-synonyme-de-plaisir-et-bien-etre-f-seguin-/1500000001640570/0:0,1995:1330-640-427-75/58990.jpg', 'publishedAt': '2022-05-10T11:02:00+00:00', 'content': \"À vaste sujet, analyse conséquente. L'«\\xa0étude nationale sur les besoins et les attentes des acteurs du sport\\xa0», réalisée par le Centre de droit et d'économie du sport de Limoges (CDES) et pilotée par… [+3006 chars]\"})\n",
      "###############################################\n",
      "(6, {'source': {'id': 'lequipe', 'name': \"L'equipe\"}, 'author': \"L'EQUIPE\", 'title': 'Jelena Ostapenko éliminée par Lauren Davis au premier tour à Rome', 'description': 'Jelena Ostapenko, 13e mondiale, a cédé au premier tour du WTA 1000 de Rome face à la qualifiée Lauren Davis (6-2, 6-3).', 'url': 'https://www.lequipe.fr/Tennis/Actualites/Jelena-ostapenko-eliminee-au-premier-tour-a-rome/1332284', 'urlToImage': 'https://medias.lequipe.fr/img-photo-jpg/jelena-ostapenko-est-dans-le-dur-n-luttiau-l-equipe/1500000001640566/227:283,1802:1333-640-427-75/eb7fd.jpg', 'publishedAt': '2022-05-10T10:37:00+00:00', 'content': \"Grosse contre-performance pour Jelena Ostapenko au premier tour du WTA 1000 de Rome. La 13e mondiale est passée à côté de son match face à la qualifiée américaine Lauren Davis (102e) et s'est incliné… [+231 chars]\"})\n",
      "###############################################\n",
      "(7, {'source': {'id': 'lequipe', 'name': \"L'equipe\"}, 'author': \"L'EQUIPE\", 'title': 'Caroline Marks poursuit la saison, Sally Fitzgibbons et Yago Dora wildcards pour 2023', 'description': 'La World Surf League a annoncé que Caroline Marks participera au reste de la saison 2022 grâce à une wildcard, tout comme Gabriel Medina, tandis que Sally Fitzgibbons et Yago Dora en ont reçu une pour 2023.', 'url': 'https://www.lequipe.fr/Adrenaline/Surf/Actualites/Caroline-marks-poursuit-la-saison-sally-fitzgibbons-et-yago-dora-wildcards-pour-2023/1332283', 'urlToImage': 'https://medias.lequipe.fr/img-photo-jpg/caroline-marks-a-remporte-le-rip-curl-pro-portugal-2019-l-masurel-wsl/1500000001640565/29:19,1968:1312-640-427-75/a8edb.jpg', 'publishedAt': '2022-05-10T10:20:00+00:00', 'content': \"Quant aux wildcards pour 2023, elles ont été attribuées à Sally Fitzgibbons et Yago Dora, qui n'auront donc pas à disputer les Challenger Series pour se requalifier. L'Australienne de 31 ans, trois f… [+354 chars]\"})\n",
      "###############################################\n",
      "(8, {'source': {'id': 'lequipe', 'name': \"L'equipe\"}, 'author': \"L'EQUIPE\", 'title': \"Pierre-Édouard Bellemare ne disputera pas le Mondial avec l'équipe de France\", 'description': \"Le sélectionneur Philippe Bozon a précisé lundi que Pierre-Édouard Bellemare ne participerait pas au Mondial avec l'équipe de France, même en cas d'élimination de son équipe de Tampa Bay en play-offs de NHL.\", 'url': 'https://www.lequipe.fr/Hockey-sur-glace/Actualites/Pierre-edouard-bellemare-ne-disputera-pas-le-mondial-avec-l-equipe-de-france/1332282', 'urlToImage': 'https://medias.lequipe.fr/img-photo-jpg/pierre-edouard-bellemare-au-centre-lors-du-tournoi-de-qualification-olympique-l-an-passe-ne-particip/1500000001640564/0:0,1995:1330-640-427-75/fbfbc.jpg', 'publishedAt': '2022-05-10T10:19:00+00:00', 'content': \"Philippe Bozon, le sélectionneur des Bleus, a répondu aux questions de la presse en visioconférence, à quelques jours de l'entrée en lice de l'équipe de France au Championnat du monde, vendredi à Hel… [+1623 chars]\"})\n",
      "###############################################\n",
      "(9, {'source': {'id': 'lequipe', 'name': \"L'equipe\"}, 'author': \"L'EQUIPE\", 'title': \"Sébastien Bouin confirme son 9c historique\\xa0: «\\xa0Essayer quelque chose d'encore plus dur\\xa0»\", 'description': 'À 29 ans, le Français Sébastien Bouin assure avoir réussi fin avril un 9c, soit le plus haut niveau jamais réalisé en escalade, avec la voie appelée «\\xa0DNA\\xa0», dans le Verdon. Il revient sur cette ascension historique et se projette sur le niveau supérieur, iné…', 'url': 'https://www.lequipe.fr/Adrenaline/Escalade/Actualites/Sebastien-bouin-confirme-son-9c-historique-essayer-quelque-chose-d-encore-plus-dur/1332201', 'urlToImage': 'https://medias.lequipe.fr/img-photo-jpg/-/1500000001640392/34:875,1974:2168-640-427-75/cdd96.jpg', 'publishedAt': '2022-05-10T10:00:00+00:00', 'content': \"«\\xa0Vous avez mis quelques jours avant d'annoncer publiquement ce 9c (le plus haut niveau au monde en escalade), pourquoi\\xa0?J'ai pris le temps pour réfléchir sur la cotation que j'allais proposer (en es… [+4873 chars]\"})\n"
     ]
    }
   ],
   "source": [
    "# And now we have lists in dictionaries(it's a JSON file actually but it's very similar)\n",
    "# We will discover the information of the article key.\n",
    "\n",
    "for element in enumerate(dictionnary[\"articles\"]):\n",
    "    print(\"###############################################\")\n",
    "    print(element)"
   ]
  },
  {
   "cell_type": "code",
   "execution_count": 20,
   "metadata": {},
   "outputs": [
    {
     "name": "stdout",
     "output_type": "stream",
     "text": [
      " Key :  source Values :  {'id': 'lequipe', 'name': \"L'equipe\"}\n",
      " Key :  author Values :  L'EQUIPE\n",
      " Key :  title Values :  Valence CF : Hugo Duro s'engage jusqu'en 2026\n",
      " Key :  description Values :  Prêté cette saison par Getafe, l'attaquant Hugo Duro s'est engagé mardi avec le Valence CF jusqu'en 2026.\n",
      " Key :  url Values :  https://www.lequipe.fr/Football/Actualites/Valence-cf-hugo-duro-s-engage-jusqu-en-2026/1332299\n",
      " Key :  urlToImage Values :  https://medias.lequipe.fr/img-photo-jpg/hugo-duro-en-action-j-corchero-afp7/1500000001640590/0:0,1331:1331-640-640-75/1f6e8.jpg\n",
      " Key :  publishedAt Values :  2022-05-10T12:03:00+00:00\n",
      " Key :  content Values :  C'était dans l'air, c'est désormais officiel. Prêté par Getafe cette saison et auteur de 10 buts toutes compétitions confondues, Hugo Duro va bien rester au Valence CF. Le club espagnol a en effet an… [+86 chars]\n"
     ]
    }
   ],
   "source": [
    "# So if we keep going, it gives us another dictionary!\n",
    "for element in dictionnary[\"articles\"][0].keys():\n",
    "    print(\" Key : \", element, \"Values : \", dictionnary[\"articles\"][0][element])"
   ]
  },
  {
   "cell_type": "markdown",
   "metadata": {},
   "source": [
    "### Make a script that allows you to take details of the last ten news from the team or another site. Store them in a nice CSV or excel file."
   ]
  },
  {
   "cell_type": "code",
   "execution_count": null,
   "metadata": {},
   "outputs": [],
   "source": []
  }
 ],
 "metadata": {
  "interpreter": {
   "hash": "486e0d5a79acdbfffd563ee7a67a93a5017bd2a4f66495483a69f0245c8a4a6c"
  },
  "kernelspec": {
   "display_name": "Python 3.10.4 64-bit (windows store)",
   "language": "python",
   "name": "python3"
  },
  "language_info": {
   "codemirror_mode": {
    "name": "ipython",
    "version": 3
   },
   "file_extension": ".py",
   "mimetype": "text/x-python",
   "name": "python",
   "nbconvert_exporter": "python",
   "pygments_lexer": "ipython3",
   "version": "3.10.4"
  }
 },
 "nbformat": 4,
 "nbformat_minor": 2
}
