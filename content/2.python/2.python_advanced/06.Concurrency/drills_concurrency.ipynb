{
 "cells": [
  {
   "cell_type": "markdown",
   "metadata": {},
   "source": [
    "# Drill - Threading\n",
    "\n"
   ]
  },
  {
   "cell_type": "markdown",
   "metadata": {},
   "source": [
    "### Exercise 1\n",
    "In the `data/` folder, you have 10 files that contain Shakespears sonnets. You have to gather all these files into one file `data_all.txt` using threads. Be careful, the sonnets must appear in order."
   ]
  },
  {
   "cell_type": "code",
   "execution_count": 9,
   "metadata": {},
   "outputs": [
    {
     "name": "stdout",
     "output_type": "stream",
     "text": [
      "<class '_io.TextIOWrapper'>\n",
      "Sonnet III\n",
      "\n",
      "\n",
      "Look in thy glass, and tell the face thou viewest\n",
      "Now is the time that face should form another;\n",
      "Whose fresh repair if now thou not renewest,\n",
      "Thou dost beguile the world, unbless some mother.\n",
      "For where is she so fair whose unear'd womb\n",
      "Disdains the tillage of thy husbandry?\n",
      "Or who is he so fond will be the tomb\n",
      "Of his self-love, to stop posterity?\n",
      "Thou art thy mother's glass, and she in thee\n",
      "Calls back the lovely April of her prime:\n",
      "So thou through windows of thine age shall see\n",
      "Despite of wrinkles this thy golden time.\n",
      "But if thou live, remember'd not to be,\n",
      "Die single, and thine image dies with thee.\n",
      "\n"
     ]
    }
   ],
   "source": [
    "import threading\n",
    "with threading.Lock() as lock:\n",
    "        file='data_part_3.txt'\n",
    "        correctName = (f\"./data/{file}\")\n",
    "        out = open('data_all.txt','a')\n",
    "        input_= open(correctName,'r')\n",
    "        print(type(input_))\n",
    "        print(input_.read())\n",
    "        #with open('data_all.txt','a')as out, open(correctName,'r')as input_:\n",
    "        out.write(input_.read())"
   ]
  },
  {
   "cell_type": "code",
   "execution_count": null,
   "metadata": {},
   "outputs": [
    {
     "name": "stderr",
     "output_type": "stream",
     "text": [
      "Exception in thread data_part_1.txt:\n",
      "Traceback (most recent call last):\n",
      "  File \"C:\\Program Files\\WindowsApps\\PythonSoftwareFoundation.Python.3.10_3.10.1264.0_x64__qbz5n2kfra8p0\\lib\\threading.py\", line 1009, in _bootstrap_inner\n",
      "    self.run()\n",
      "  File \"C:\\Program Files\\WindowsApps\\PythonSoftwareFoundation.Python.3.10_3.10.1264.0_x64__qbz5n2kfra8p0\\lib\\threading.py\", line 946, in run\n",
      "Exception in thread data_part_10.txt:\n",
      "Traceback (most recent call last):\n",
      "  File \"C:\\Program Files\\WindowsApps\\PythonSoftwareFoundation.Python.3.10_3.10.1264.0_x64__qbz5n2kfra8p0\\lib\\threading.py\", line 1009, in _bootstrap_inner\n",
      "    self._target(*self._args, **self._kwargs)\n",
      "TypeError: read_and_write_file() takes 1 positional argument but 15 were given\n",
      "    self.run()\n",
      "  File \"C:\\Program Files\\WindowsApps\\PythonSoftwareFoundation.Python.3.10_3.10.1264.0_x64__qbz5n2kfra8p0\\lib\\threading.py\", line 946, in run\n",
      "Exception in thread data_part_2.txt:\n",
      "Traceback (most recent call last):\n",
      "  File \"C:\\Program Files\\WindowsApps\\PythonSoftwareFoundation.Python.3.10_3.10.1264.0_x64__qbz5n2kfra8p0\\lib\\threading.py\", line 1009, in _bootstrap_inner\n",
      "Exception in thread data_part_3.txt:\n",
      "Traceback (most recent call last):\n",
      "  File \"C:\\Program Files\\WindowsApps\\PythonSoftwareFoundation.Python.3.10_3.10.1264.0_x64__qbz5n2kfra8p0\\lib\\threading.py\", line 1009, in _bootstrap_inner\n",
      "    self._target(*self._args, **self._kwargs)\n",
      "TypeError: read_and_write_file() takes 1 positional argument but 16 were given\n",
      "Exception in thread data_part_4.txt:\n",
      "Traceback (most recent call last):\n",
      "  File \"C:\\Program Files\\WindowsApps\\PythonSoftwareFoundation.Python.3.10_3.10.1264.0_x64__qbz5n2kfra8p0\\lib\\threading.py\", line 1009, in _bootstrap_inner\n",
      "Exception in thread data_part_5.txt:\n",
      "Traceback (most recent call last):\n",
      "  File \"C:\\Program Files\\WindowsApps\\PythonSoftwareFoundation.Python.3.10_3.10.1264.0_x64__qbz5n2kfra8p0\\lib\\threading.py\", line 1009, in _bootstrap_inner\n",
      "    self.run()\n",
      "  File \"C:\\Program Files\\WindowsApps\\PythonSoftwareFoundation.Python.3.10_3.10.1264.0_x64__qbz5n2kfra8p0\\lib\\threading.py\", line 946, in run\n",
      "Exception in thread data_part_6.txt:\n",
      "Traceback (most recent call last):\n",
      "  File \"C:\\Program Files\\WindowsApps\\PythonSoftwareFoundation.Python.3.10_3.10.1264.0_x64__qbz5n2kfra8p0\\lib\\threading.py\", line 1009, in _bootstrap_inner\n",
      "    self.run()\n",
      "  File \"C:\\Program Files\\WindowsApps\\PythonSoftwareFoundation.Python.3.10_3.10.1264.0_x64__qbz5n2kfra8p0\\lib\\threading.py\", line 946, in run\n",
      "Exception in thread data_part_7.txt:\n",
      "Traceback (most recent call last):\n",
      "  File \"C:\\Program Files\\WindowsApps\\PythonSoftwareFoundation.Python.3.10_3.10.1264.0_x64__qbz5n2kfra8p0\\lib\\threading.py\", line 1009, in _bootstrap_inner\n",
      "Exception in thread data_part_8.txt:\n",
      "Traceback (most recent call last):\n",
      "  File \"C:\\Program Files\\WindowsApps\\PythonSoftwareFoundation.Python.3.10_3.10.1264.0_x64__qbz5n2kfra8p0\\lib\\threading.py\", line 1009, in _bootstrap_inner\n",
      "    self.run()\n",
      "  File \"C:\\Program Files\\WindowsApps\\PythonSoftwareFoundation.Python.3.10_3.10.1264.0_x64__qbz5n2kfra8p0\\lib\\threading.py\", line 946, in run\n",
      "    self.run()\n",
      "  File \"C:\\Program Files\\WindowsApps\\PythonSoftwareFoundation.Python.3.10_3.10.1264.0_x64__qbz5n2kfra8p0\\lib\\threading.py\", line 946, in run\n",
      "    self._target(*self._args, **self._kwargs)\n",
      "TypeError: read_and_write_file() takes 1 positional argument but 15 were given\n",
      "    self._target(*self._args, **self._kwargs)\n",
      "TypeError: read_and_write_file() takes 1 positional argument but 15 were given\n",
      "    Exception in thread data_part_9.txt:\n",
      "Traceback (most recent call last):\n",
      "  File \"C:\\Program Files\\WindowsApps\\PythonSoftwareFoundation.Python.3.10_3.10.1264.0_x64__qbz5n2kfra8p0\\lib\\threading.py\", line 1009, in _bootstrap_inner\n",
      "self.run()\n",
      "  File \"C:\\Program Files\\WindowsApps\\PythonSoftwareFoundation.Python.3.10_3.10.1264.0_x64__qbz5n2kfra8p0\\lib\\threading.py\", line 946, in run\n",
      "    self.run()\n",
      "  File \"C:\\Program Files\\WindowsApps\\PythonSoftwareFoundation.Python.3.10_3.10.1264.0_x64__qbz5n2kfra8p0\\lib\\threading.py\", line 946, in run\n",
      "    "
     ]
    },
    {
     "name": "stdout",
     "output_type": "stream",
     "text": [
      "['data_part_1.txt', 'data_part_10.txt', 'data_part_2.txt', 'data_part_3.txt', 'data_part_4.txt', 'data_part_5.txt', 'data_part_6.txt', 'data_part_7.txt', 'data_part_8.txt', 'data_part_9.txt']\n",
      "data_part_1.txt\n",
      "data_part_10.txt\n",
      "data_part_2.txt\n",
      "data_part_3.txt\n",
      "data_part_4.txt\n",
      "data_part_5.txt\n",
      "data_part_6.txt\n",
      "data_part_7.txt\n",
      "data_part_8.txt\n",
      "data_part_9.txt\n"
     ]
    },
    {
     "name": "stderr",
     "output_type": "stream",
     "text": [
      "self._target(*self._args, **self._kwargs)\n",
      "TypeError: read_and_write_file() takes 1 positional argument but 15 were given\n",
      "    self._target(*self._args, **self._kwargs)\n",
      "TypeError: read_and_write_file() takes 1 positional argument but 15 were given\n",
      "        self.run()\n",
      "  File \"C:\\Program Files\\WindowsApps\\PythonSoftwareFoundation.Python.3.10_3.10.1264.0_x64__qbz5n2kfra8p0\\lib\\threading.py\", line 946, in run\n",
      "    self.run()\n",
      "  File \"C:\\Program Files\\WindowsApps\\PythonSoftwareFoundation.Python.3.10_3.10.1264.0_x64__qbz5n2kfra8p0\\lib\\threading.py\", line 946, in run\n",
      "    self._target(*self._args, **self._kwargs)\n",
      "TypeError: read_and_write_file() takes 1 positional argument but 15 were given\n",
      "self._target(*self._args, **self._kwargs)\n",
      "TypeError: read_and_write_file() takes 1 positional argument but 15 were given\n",
      "        self._target(*self._args, **self._kwargs)\n",
      "TypeError: read_and_write_file() takes 1 positional argument but 15 were given\n",
      "self._target(*self._args, **self._kwargs)\n",
      "TypeError: read_and_write_file() takes 1 positional argument but 15 were given\n"
     ]
    }
   ],
   "source": [
    "import threading\n",
    "import os\n",
    "\n",
    "use_thread = True\n",
    "\n",
    "def read_and_write_file(file):\n",
    "    if use_thread:\n",
    "        print(thread.name)\n",
    "\n",
    "    with threading.Lock() as lock:\n",
    "        correctName = (f\"./data/{file}\")\n",
    "        #out = open('data_all.txt','a')\n",
    "        #input_= open(correctName,'r')\n",
    "        #print(type(input_))\n",
    "        with open('data_all.txt','a')as out, open(correctName,'r')as input_:\n",
    "            out.write(input_.read())\n",
    "\n",
    "folder_path = os.path.abspath(\"./\")\n",
    "file_names = os.listdir('./data')\n",
    "print(file_names)\n",
    "\n",
    "for cor_file in file_names:\n",
    "    print(cor_file)\n",
    "\n",
    "    thread = threading.Thread(target = read_and_write_file, args = (cor_file), name = cor_file)\n",
    "    thread.start()"
   ]
  },
  {
   "cell_type": "markdown",
   "metadata": {},
   "source": [
    "### Exercise 2\n",
    "Scrap all the web pages in the `urls` list and display the links. 1 thread per link. "
   ]
  },
  {
   "cell_type": "code",
   "execution_count": null,
   "metadata": {},
   "outputs": [],
   "source": [
    "urls = [\n",
    "    \"http://www.python.org\",\n",
    "    \"http://www.python.org/about/\",\n",
    "    \"http://www.onlamp.com/pub/a/python/2003/04/17/metaclasses.html\",\n",
    "    \"http://www.python.org/doc/\",\n",
    "    \"http://www.python.org/download/\",\n",
    "    \"http://www.python.org/getit/\",\n",
    "    \"http://www.python.org/community/\",\n",
    "    \"https://wiki.python.org/moin/\",\n",
    "]"
   ]
  },
  {
   "cell_type": "code",
   "execution_count": null,
   "metadata": {},
   "outputs": [],
   "source": []
  }
 ],
 "metadata": {
  "file_extension": ".py",
  "interpreter": {
   "hash": "486e0d5a79acdbfffd563ee7a67a93a5017bd2a4f66495483a69f0245c8a4a6c"
  },
  "kernelspec": {
   "display_name": "Python 3.10.4 64-bit (windows store)",
   "language": "python",
   "name": "python3"
  },
  "language_info": {
   "codemirror_mode": {
    "name": "ipython",
    "version": 3
   },
   "file_extension": ".py",
   "mimetype": "text/x-python",
   "name": "python",
   "nbconvert_exporter": "python",
   "pygments_lexer": "ipython3",
   "version": "3.10.4"
  },
  "mimetype": "text/x-python",
  "name": "python",
  "npconvert_exporter": "python",
  "pygments_lexer": "ipython3",
  "version": 3
 },
 "nbformat": 4,
 "nbformat_minor": 2
}
