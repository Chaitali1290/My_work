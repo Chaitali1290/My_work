{
 "cells": [
  {
   "cell_type": "markdown",
   "metadata": {},
   "source": [
    "# Drill - Threading\n",
    "\n"
   ]
  },
  {
   "cell_type": "markdown",
   "metadata": {},
   "source": [
    "### Exercise 1\n",
    "In the `data/` folder, you have 10 files that contain Shakespears sonnets. You have to gather all these files into one file `data_all.txt` using threads. Be careful, the sonnets must appear in order."
   ]
  },
  {
   "cell_type": "code",
   "execution_count": 3,
   "metadata": {},
   "outputs": [
    {
     "name": "stdout",
     "output_type": "stream",
     "text": [
      "<class '_io.TextIOWrapper'>\n",
      "Sonnet II\n",
      "\n",
      "\n",
      "When forty winters shall beseige thy brow,\n",
      "And dig deep trenches in thy beauty's field,\n",
      "Thy youth's proud livery, so gazed on now,\n",
      "Will be a tatter'd weed, of small worth held:\n",
      "Then being ask'd where all thy beauty lies,\n",
      "Where all the treasure of thy lusty days,\n",
      "To say, within thine own deep-sunken eyes,\n",
      "Were an all-eating shame and thriftless praise.\n",
      "How much more praise deserved thy beauty's use,\n",
      "If thou couldst answer 'This fair child of mine\n",
      "Shall sum my count and make my old excuse,'\n",
      "Proving his beauty by succession thine!\n",
      "This were to be new made when thou art old,\n",
      "And see thy blood warm when thou feel'st it cold.\n",
      "\n"
     ]
    }
   ],
   "source": [
    "with threading.Lock() as lock:\n",
    "        file='data_part_3.txt'\n",
    "        correctName = (f\"./data/{file}\")\n",
    "        out = open('data_all.txt','a')\n",
    "        input_= open(correctName,'r')\n",
    "        print(type(input_))\n",
    "        print(input_.read())\n",
    "        #with open('data_all.txt','a')as out, open(correctName,'r')as input_:\n",
    "        out.write(input_.read())"
   ]
  },
  {
   "cell_type": "code",
   "execution_count": 3,
   "metadata": {},
   "outputs": [
    {
     "name": "stderr",
     "output_type": "stream",
     "text": [
      "Exception in thread data_part_1.txt:\n",
      "Traceback (most recent call last):\n",
      "  File \"C:\\Program Files\\WindowsApps\\PythonSoftwareFoundation.Python.3.10_3.10.1264.0_x64__qbz5n2kfra8p0\\lib\\threading.py\", line 1009, in _bootstrap_inner\n",
      "    self.run()\n",
      "  File \"C:\\Program Files\\WindowsApps\\PythonSoftwareFoundation.Python.3.10_3.10.1264.0_x64__qbz5n2kfra8p0\\lib\\threading.py\", line 946, in run\n",
      "Exception in thread data_part_10.txt:\n",
      "Traceback (most recent call last):\n",
      "  File \"C:\\Program Files\\WindowsApps\\PythonSoftwareFoundation.Python.3.10_3.10.1264.0_x64__qbz5n2kfra8p0\\lib\\threading.py\", line 1009, in _bootstrap_inner\n",
      "    self._target(*self._args, **self._kwargs)\n",
      "TypeError: read_and_write_file() takes 1 positional argument but 15 were given\n",
      "    self.run()\n",
      "  File \"C:\\Program Files\\WindowsApps\\PythonSoftwareFoundation.Python.3.10_3.10.1264.0_x64__qbz5n2kfra8p0\\lib\\threading.py\", line 946, in run\n",
      "Exception in thread data_part_2.txt:\n",
      "Traceback (most recent call last):\n",
      "  File \"C:\\Program Files\\WindowsApps\\PythonSoftwareFoundation.Python.3.10_3.10.1264.0_x64__qbz5n2kfra8p0\\lib\\threading.py\", line 1009, in _bootstrap_inner\n",
      "Exception in thread data_part_3.txt:\n",
      "Traceback (most recent call last):\n",
      "  File \"C:\\Program Files\\WindowsApps\\PythonSoftwareFoundation.Python.3.10_3.10.1264.0_x64__qbz5n2kfra8p0\\lib\\threading.py\", line 1009, in _bootstrap_inner\n",
      "    self._target(*self._args, **self._kwargs)\n",
      "TypeError: read_and_write_file() takes 1 positional argument but 16 were given\n",
      "Exception in thread data_part_4.txt:\n",
      "Traceback (most recent call last):\n",
      "  File \"C:\\Program Files\\WindowsApps\\PythonSoftwareFoundation.Python.3.10_3.10.1264.0_x64__qbz5n2kfra8p0\\lib\\threading.py\", line 1009, in _bootstrap_inner\n",
      "Exception in thread data_part_5.txt:\n",
      "Traceback (most recent call last):\n",
      "  File \"C:\\Program Files\\WindowsApps\\PythonSoftwareFoundation.Python.3.10_3.10.1264.0_x64__qbz5n2kfra8p0\\lib\\threading.py\", line 1009, in _bootstrap_inner\n",
      "    self.run()\n",
      "  File \"C:\\Program Files\\WindowsApps\\PythonSoftwareFoundation.Python.3.10_3.10.1264.0_x64__qbz5n2kfra8p0\\lib\\threading.py\", line 946, in run\n",
      "Exception in thread data_part_6.txt:\n",
      "Traceback (most recent call last):\n",
      "  File \"C:\\Program Files\\WindowsApps\\PythonSoftwareFoundation.Python.3.10_3.10.1264.0_x64__qbz5n2kfra8p0\\lib\\threading.py\", line 1009, in _bootstrap_inner\n",
      "    self.run()\n",
      "  File \"C:\\Program Files\\WindowsApps\\PythonSoftwareFoundation.Python.3.10_3.10.1264.0_x64__qbz5n2kfra8p0\\lib\\threading.py\", line 946, in run\n",
      "Exception in thread data_part_7.txt:\n",
      "Traceback (most recent call last):\n",
      "  File \"C:\\Program Files\\WindowsApps\\PythonSoftwareFoundation.Python.3.10_3.10.1264.0_x64__qbz5n2kfra8p0\\lib\\threading.py\", line 1009, in _bootstrap_inner\n",
      "Exception in thread data_part_8.txt:\n",
      "Traceback (most recent call last):\n",
      "  File \"C:\\Program Files\\WindowsApps\\PythonSoftwareFoundation.Python.3.10_3.10.1264.0_x64__qbz5n2kfra8p0\\lib\\threading.py\", line 1009, in _bootstrap_inner\n",
      "    self.run()\n",
      "  File \"C:\\Program Files\\WindowsApps\\PythonSoftwareFoundation.Python.3.10_3.10.1264.0_x64__qbz5n2kfra8p0\\lib\\threading.py\", line 946, in run\n",
      "    self.run()\n",
      "  File \"C:\\Program Files\\WindowsApps\\PythonSoftwareFoundation.Python.3.10_3.10.1264.0_x64__qbz5n2kfra8p0\\lib\\threading.py\", line 946, in run\n",
      "    self._target(*self._args, **self._kwargs)\n",
      "TypeError: read_and_write_file() takes 1 positional argument but 15 were given\n",
      "    self._target(*self._args, **self._kwargs)\n",
      "TypeError: read_and_write_file() takes 1 positional argument but 15 were given\n",
      "    Exception in thread data_part_9.txt:\n",
      "Traceback (most recent call last):\n",
      "  File \"C:\\Program Files\\WindowsApps\\PythonSoftwareFoundation.Python.3.10_3.10.1264.0_x64__qbz5n2kfra8p0\\lib\\threading.py\", line 1009, in _bootstrap_inner\n",
      "self.run()\n",
      "  File \"C:\\Program Files\\WindowsApps\\PythonSoftwareFoundation.Python.3.10_3.10.1264.0_x64__qbz5n2kfra8p0\\lib\\threading.py\", line 946, in run\n",
      "    self.run()\n",
      "  File \"C:\\Program Files\\WindowsApps\\PythonSoftwareFoundation.Python.3.10_3.10.1264.0_x64__qbz5n2kfra8p0\\lib\\threading.py\", line 946, in run\n",
      "    "
     ]
    },
    {
     "name": "stdout",
     "output_type": "stream",
     "text": [
      "['data_part_1.txt', 'data_part_10.txt', 'data_part_2.txt', 'data_part_3.txt', 'data_part_4.txt', 'data_part_5.txt', 'data_part_6.txt', 'data_part_7.txt', 'data_part_8.txt', 'data_part_9.txt']\n",
      "data_part_1.txt\n",
      "data_part_10.txt\n",
      "data_part_2.txt\n",
      "data_part_3.txt\n",
      "data_part_4.txt\n",
      "data_part_5.txt\n",
      "data_part_6.txt\n",
      "data_part_7.txt\n",
      "data_part_8.txt\n",
      "data_part_9.txt\n"
     ]
    },
    {
     "name": "stderr",
     "output_type": "stream",
     "text": [
      "self._target(*self._args, **self._kwargs)\n",
      "TypeError: read_and_write_file() takes 1 positional argument but 15 were given\n",
      "    self._target(*self._args, **self._kwargs)\n",
      "TypeError: read_and_write_file() takes 1 positional argument but 15 were given\n",
      "        self.run()\n",
      "  File \"C:\\Program Files\\WindowsApps\\PythonSoftwareFoundation.Python.3.10_3.10.1264.0_x64__qbz5n2kfra8p0\\lib\\threading.py\", line 946, in run\n",
      "    self.run()\n",
      "  File \"C:\\Program Files\\WindowsApps\\PythonSoftwareFoundation.Python.3.10_3.10.1264.0_x64__qbz5n2kfra8p0\\lib\\threading.py\", line 946, in run\n",
      "    self._target(*self._args, **self._kwargs)\n",
      "TypeError: read_and_write_file() takes 1 positional argument but 15 were given\n",
      "self._target(*self._args, **self._kwargs)\n",
      "TypeError: read_and_write_file() takes 1 positional argument but 15 were given\n",
      "        self._target(*self._args, **self._kwargs)\n",
      "TypeError: read_and_write_file() takes 1 positional argument but 15 were given\n",
      "self._target(*self._args, **self._kwargs)\n",
      "TypeError: read_and_write_file() takes 1 positional argument but 15 were given\n"
     ]
    }
   ],
   "source": [
    "import threading\n",
    "import os\n",
    "\n",
    "use_thread = True\n",
    "\n",
    "def read_and_write_file(file):\n",
    "    if use_thread:\n",
    "        print(thread.name)\n",
    "\n",
    "    with threading.Lock() as lock:\n",
    "        correctName = (f\"./data/{file}\")\n",
    "        #out = open('data_all.txt','a')\n",
    "        #input_= open(correctName,'r')\n",
    "        #print(type(input_))\n",
    "        with open('data_all.txt','a')as out, open(correctName,'r')as input_:\n",
    "            out.write(input_.read())\n",
    "\n",
    "folder_path = os.path.abspath(\"./\")\n",
    "file_names = os.listdir('./data')\n",
    "print(file_names)\n",
    "\n",
    "for cor_file in file_names:\n",
    "    print(cor_file)\n",
    "\n",
    "    thread = threading.Thread(target = read_and_write_file, args = (cor_file), name = cor_file)\n",
    "    thread.start()"
   ]
  },
  {
   "cell_type": "markdown",
   "metadata": {},
   "source": [
    "### Exercise 2\n",
    "Scrap all the web pages in the `urls` list and display the links. 1 thread per link. "
   ]
  },
  {
   "cell_type": "code",
   "execution_count": null,
   "metadata": {},
   "outputs": [],
   "source": [
    "urls = [\n",
    "    \"http://www.python.org\",\n",
    "    \"http://www.python.org/about/\",\n",
    "    \"http://www.onlamp.com/pub/a/python/2003/04/17/metaclasses.html\",\n",
    "    \"http://www.python.org/doc/\",\n",
    "    \"http://www.python.org/download/\",\n",
    "    \"http://www.python.org/getit/\",\n",
    "    \"http://www.python.org/community/\",\n",
    "    \"https://wiki.python.org/moin/\",\n",
    "]"
   ]
  },
  {
   "cell_type": "code",
   "execution_count": null,
   "metadata": {},
   "outputs": [],
   "source": []
  }
 ],
 "metadata": {
  "file_extension": ".py",
  "interpreter": {
   "hash": "486e0d5a79acdbfffd563ee7a67a93a5017bd2a4f66495483a69f0245c8a4a6c"
  },
  "kernelspec": {
   "display_name": "Python 3.10.4 64-bit (windows store)",
   "language": "python",
   "name": "python3"
  },
  "language_info": {
   "codemirror_mode": {
    "name": "ipython",
    "version": 3
   },
   "file_extension": ".py",
   "mimetype": "text/x-python",
   "name": "python",
   "nbconvert_exporter": "python",
   "pygments_lexer": "ipython3",
   "version": "3.10.4"
  },
  "mimetype": "text/x-python",
  "name": "python",
  "npconvert_exporter": "python",
  "pygments_lexer": "ipython3",
  "version": 3
 },
 "nbformat": 4,
 "nbformat_minor": 2
}
