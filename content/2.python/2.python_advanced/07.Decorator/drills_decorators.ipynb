{
 "cells": [
  {
   "cell_type": "markdown",
   "metadata": {},
   "source": [
    "# Drill - Decorators\n",
    "\n",
    "### Exercise 1\n",
    "Create a decorator that limits the execution of a function:\n",
    "\n",
    "When the function is executed too many times, an exception is thrown. The decorator must take one parameter, which is the number of times it is executed."
   ]
  },
  {
   "cell_type": "code",
   "execution_count": 30,
   "metadata": {},
   "outputs": [
    {
     "name": "stdout",
     "output_type": "stream",
     "text": [
      "Welcome to world\n",
      "Welcome to world\n",
      "Welcome to world\n",
      "Welcome to world\n",
      "Welcome to world\n"
     ]
    }
   ],
   "source": [
    "from functools import wraps\n",
    "\n",
    "def counter(method):\n",
    "    \n",
    "    def wrapped():\n",
    "        \n",
    "        counter = 1\n",
    "        while counter<= 5:\n",
    "            method()\n",
    "            counter += 1\n",
    "        \n",
    "    return wrapped\n",
    "\n",
    "@counter\n",
    "def world():\n",
    "    print(\"Welcome to world\")\n",
    "\n",
    "world()\n",
    "    \n"
   ]
  },
  {
   "cell_type": "code",
   "execution_count": 24,
   "metadata": {},
   "outputs": [
    {
     "name": "stdout",
     "output_type": "stream",
     "text": [
      "inside decorator\n",
      "decorated function\n",
      "5\n"
     ]
    },
    {
     "ename": "AssertionError",
     "evalue": "",
     "output_type": "error",
     "traceback": [
      "\u001b[1;31m---------------------------------------------------------------------------\u001b[0m",
      "\u001b[1;31mAssertionError\u001b[0m                            Traceback (most recent call last)",
      "Input \u001b[1;32mIn [24]\u001b[0m, in \u001b[0;36m<cell line: 17>\u001b[1;34m()\u001b[0m\n\u001b[0;32m     13\u001b[0m     \u001b[39mprint\u001b[39m(\u001b[39m\"\u001b[39m\u001b[39mdecorated function\u001b[39m\u001b[39m\"\u001b[39m)\n\u001b[0;32m     16\u001b[0m x\u001b[39m=\u001b[39m\u001b[39m5\u001b[39m\n\u001b[1;32m---> 17\u001b[0m count(x)\n",
      "Input \u001b[1;32mIn [24]\u001b[0m, in \u001b[0;36mmy_decorator.<locals>.inner\u001b[1;34m(*args, **kwargs)\u001b[0m\n\u001b[0;32m      5\u001b[0m value \u001b[39m=\u001b[39m \u001b[39mlist\u001b[39m(\u001b[39mlocals\u001b[39m()\u001b[39m.\u001b[39mvalues())[\u001b[39m0\u001b[39m][\u001b[39m0\u001b[39m]\n\u001b[0;32m      6\u001b[0m \u001b[39mprint\u001b[39m(value)\n\u001b[1;32m----> 7\u001b[0m \u001b[39massert\u001b[39;00m value \u001b[39m>\u001b[39m\u001b[39m=\u001b[39m \u001b[39m10\u001b[39m\n",
      "\u001b[1;31mAssertionError\u001b[0m: "
     ]
    }
   ],
   "source": [
    "def my_decorator(fun_count):\n",
    "    def inner(*args,**kwargs):\n",
    "        print(\"inside decorator\")\n",
    "        fun_count(*args,**kwargs)\n",
    "        value = list(locals().values())[0][0]\n",
    "        print(value)\n",
    "        assert value >= 10\n",
    "\n",
    "    return inner\n",
    "\n",
    "@my_decorator\n",
    "def count(my_arg):\n",
    "    print(\"decorated function\")\n",
    "    \n",
    "    \n",
    "x=5\n",
    "count(x)\n",
    "\n"
   ]
  },
  {
   "cell_type": "markdown",
   "metadata": {},
   "source": [
    "### Exercise 2\n",
    "Create a decorator that controls what a function returns. The decorator must throw an exception if the function returns a string or an int."
   ]
  },
  {
   "cell_type": "code",
   "execution_count": null,
   "metadata": {},
   "outputs": [],
   "source": []
  },
  {
   "cell_type": "markdown",
   "metadata": {},
   "source": [
    "### Exercise 3\n",
    "A decorator that displays the time it took for the function to run (basic)."
   ]
  },
  {
   "cell_type": "code",
   "execution_count": null,
   "metadata": {},
   "outputs": [],
   "source": []
  }
 ],
 "metadata": {
  "interpreter": {
   "hash": "486e0d5a79acdbfffd563ee7a67a93a5017bd2a4f66495483a69f0245c8a4a6c"
  },
  "kernelspec": {
   "display_name": "Python 3.10.4 64-bit (windows store)",
   "language": "python",
   "name": "python3"
  },
  "language_info": {
   "codemirror_mode": {
    "name": "ipython",
    "version": 3
   },
   "file_extension": ".py",
   "mimetype": "text/x-python",
   "name": "python",
   "nbconvert_exporter": "python",
   "pygments_lexer": "ipython3",
   "version": "3.10.4"
  }
 },
 "nbformat": 4,
 "nbformat_minor": 2
}
